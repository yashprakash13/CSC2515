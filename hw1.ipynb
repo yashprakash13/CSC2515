{
 "cells": [
  {
   "cell_type": "code",
   "execution_count": 9,
   "id": "f9643dac",
   "metadata": {},
   "outputs": [],
   "source": [
    "import numpy as np\n",
    "import math\n",
    "\n",
    "from sklearn.feature_extraction.text import CountVectorizer\n",
    "from sklearn.tree import DecisionTreeClassifier, export_graphviz\n",
    "from sklearn.model_selection import ShuffleSplit, train_test_split"
   ]
  },
  {
   "cell_type": "code",
   "execution_count": 5,
   "id": "54e3927a",
   "metadata": {},
   "outputs": [],
   "source": [
    "# criteria for splits\n",
    "SPL_CRITERIA = ['gini', 'entropy']\n",
    "# data paths\n",
    "CLEAN_REAL_PATH = \"data/clean_real.txt\"\n",
    "CLEAN_FAKE_PATH = \"data/clean_fake.txt\"\n",
    "# class labels\n",
    "REAL_LABEL = '1'\n",
    "FAKE_LABEL = '0'"
   ]
  },
  {
   "cell_type": "code",
   "execution_count": 26,
   "id": "42dab1d4",
   "metadata": {},
   "outputs": [],
   "source": [
    "def load_data():\n",
    "    f = open(CLEAN_REAL_PATH, \"r\")\n",
    "    real_headlines = f.read().splitlines()\n",
    "    f.close()\n",
    "\n",
    "    f = open(CLEAN_FAKE_PATH, \"r\")\n",
    "    fake_headlines = f.read().splitlines()\n",
    "    f.close()\n",
    "\n",
    "    count_real = len(real_headlines)\n",
    "    count_fake = len(fake_headlines)\n",
    "    count_total = count_real + count_fake\n",
    "    all_headlines = np.asarray(real_headlines + fake_headlines)\n",
    "\n",
    "    vectorizer = CountVectorizer() \n",
    "    X = vectorizer.fit_transform(all_headlines)\n",
    "\n",
    "    real_labels = np.full((count_real, 1), REAL_LABEL)\n",
    "    fake_labels = np.full((count_fake, 1), FAKE_LABEL)\n",
    "    all_labels = np.append(real_labels, fake_labels)\n",
    "\n",
    "    \n",
    "    b = all_labels.reshape(1, count_total)\n",
    "    y = b.T\n",
    "\n",
    "    # 70 / 30 split into train + (test+val)\n",
    "    X_train, X_temp, y_train, y_temp = train_test_split(X, y, \n",
    "        test_size=0.3, random_state=1)\n",
    "\n",
    "    # then split 30 into 15 validation, 15 test\n",
    "    X_val, X_test, y_val, y_test = train_test_split(X_temp, y_temp, \n",
    "        test_size=0.5, random_state=1)\n",
    "\n",
    "    return X_train, X_val, X_test, y_train, y_val, y_test, count_total, vectorizer"
   ]
  },
  {
   "cell_type": "code",
   "execution_count": 27,
   "id": "83448009",
   "metadata": {},
   "outputs": [],
   "source": [
    "X_train, X_val, X_test, y_train, y_val, y_test, count_total, vectorizer = load_data()"
   ]
  },
  {
   "cell_type": "code",
   "execution_count": 21,
   "id": "cdb4a7e2",
   "metadata": {},
   "outputs": [
    {
     "data": {
      "text/plain": [
       "((2286, 5799), (490, 5799))"
      ]
     },
     "execution_count": 21,
     "metadata": {},
     "output_type": "execute_result"
    }
   ],
   "source": [
    "X_train.shape, X_test.shape"
   ]
  },
  {
   "cell_type": "code",
   "execution_count": 22,
   "id": "b10e2b07",
   "metadata": {},
   "outputs": [
    {
     "data": {
      "text/plain": [
       "((2286, 1), (490, 1))"
      ]
     },
     "execution_count": 22,
     "metadata": {},
     "output_type": "execute_result"
    }
   ],
   "source": [
    "y_train.shape, y_test.shape"
   ]
  },
  {
   "cell_type": "code",
   "execution_count": 23,
   "id": "5604d2c0",
   "metadata": {},
   "outputs": [
    {
     "data": {
      "text/plain": [
       "array([['0'],\n",
       "       ['1'],\n",
       "       ['1'],\n",
       "       ['1'],\n",
       "       ['1'],\n",
       "       ['1'],\n",
       "       ['1'],\n",
       "       ['1'],\n",
       "       ['1'],\n",
       "       ['1']], dtype='<U1')"
      ]
     },
     "execution_count": 23,
     "metadata": {},
     "output_type": "execute_result"
    }
   ],
   "source": [
    "y_train[:10]"
   ]
  },
  {
   "cell_type": "code",
   "execution_count": null,
   "id": "d3883d3b",
   "metadata": {},
   "outputs": [],
   "source": []
  }
 ],
 "metadata": {
  "kernelspec": {
   "display_name": "Python 3 (ipykernel)",
   "language": "python",
   "name": "python3"
  },
  "language_info": {
   "codemirror_mode": {
    "name": "ipython",
    "version": 3
   },
   "file_extension": ".py",
   "mimetype": "text/x-python",
   "name": "python",
   "nbconvert_exporter": "python",
   "pygments_lexer": "ipython3",
   "version": "3.9.1"
  }
 },
 "nbformat": 4,
 "nbformat_minor": 5
}
