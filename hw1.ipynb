{
 "cells": [
  {
   "cell_type": "code",
   "execution_count": 55,
   "id": "988ccf9d",
   "metadata": {},
   "outputs": [],
   "source": [
    "import numpy as np\n",
    "import math\n",
    "\n",
    "from sklearn import tree\n",
    "from sklearn.feature_extraction.text import CountVectorizer\n",
    "from sklearn.tree import DecisionTreeClassifier, export_graphviz\n",
    "from sklearn.model_selection import ShuffleSplit, train_test_split\n",
    "from sklearn.metrics import accuracy_score\n",
    "import matplotlib.pyplot as plt"
   ]
  },
  {
   "cell_type": "code",
   "execution_count": 2,
   "id": "5eebe152",
   "metadata": {},
   "outputs": [],
   "source": [
    "# criteria for splits\n",
    "SPL_CRITERIA = ['gini', 'entropy']\n",
    "# data paths\n",
    "CLEAN_REAL_PATH = \"data/clean_real.txt\"\n",
    "CLEAN_FAKE_PATH = \"data/clean_fake.txt\"\n",
    "# class labels\n",
    "REAL_LABEL = '1'\n",
    "FAKE_LABEL = '0'"
   ]
  },
  {
   "cell_type": "code",
   "execution_count": 3,
   "id": "60170246",
   "metadata": {},
   "outputs": [],
   "source": [
    "'''\n",
    "this is question 3a.\n",
    "''' \n",
    "\n",
    "def load_data():\n",
    "    f = open(CLEAN_REAL_PATH, \"r\")\n",
    "    real_headlines = f.read().splitlines()\n",
    "    f.close()\n",
    "\n",
    "    f = open(CLEAN_FAKE_PATH, \"r\")\n",
    "    fake_headlines = f.read().splitlines()\n",
    "    f.close()\n",
    "\n",
    "    count_real = len(real_headlines)\n",
    "    count_fake = len(fake_headlines)\n",
    "    count_total = count_real + count_fake\n",
    "    all_headlines = np.asarray(real_headlines + fake_headlines)\n",
    "\n",
    "    vectorizer = CountVectorizer() \n",
    "    X = vectorizer.fit_transform(all_headlines)\n",
    "\n",
    "    real_labels = np.full((count_real, 1), REAL_LABEL)\n",
    "    fake_labels = np.full((count_fake, 1), FAKE_LABEL)\n",
    "    all_labels = np.append(real_labels, fake_labels)\n",
    "\n",
    "    \n",
    "    b = all_labels.reshape(1, count_total)\n",
    "    y = b.T\n",
    "\n",
    "    # 70 / 30 split into train + (test+val)\n",
    "    X_train, X_temp, y_train, y_temp = train_test_split(X, y, \n",
    "        test_size=0.3, random_state=1)\n",
    "\n",
    "    # then split 30 into 15 validation, 15 test\n",
    "    X_val, X_test, y_val, y_test = train_test_split(X_temp, y_temp, \n",
    "        test_size=0.5, random_state=1)\n",
    "\n",
    "    return X_train, X_val, X_test, y_train, y_val, y_test, count_total, vectorizer"
   ]
  },
  {
   "cell_type": "code",
   "execution_count": 22,
   "id": "423a1201",
   "metadata": {},
   "outputs": [],
   "source": [
    "X_train, X_val, X_test, y_train, y_val, y_test, count_total, vectorizer = load_data()"
   ]
  },
  {
   "cell_type": "code",
   "execution_count": 23,
   "id": "75a253d5",
   "metadata": {},
   "outputs": [
    {
     "data": {
      "text/plain": [
       "((2286, 5799), (490, 5799))"
      ]
     },
     "execution_count": 23,
     "metadata": {},
     "output_type": "execute_result"
    }
   ],
   "source": [
    "X_train.shape, X_test.shape"
   ]
  },
  {
   "cell_type": "code",
   "execution_count": 24,
   "id": "610995d3",
   "metadata": {},
   "outputs": [
    {
     "data": {
      "text/plain": [
       "((2286, 1), (490, 1))"
      ]
     },
     "execution_count": 24,
     "metadata": {},
     "output_type": "execute_result"
    }
   ],
   "source": [
    "y_train.shape, y_test.shape"
   ]
  },
  {
   "cell_type": "code",
   "execution_count": 7,
   "id": "4b42b538",
   "metadata": {},
   "outputs": [
    {
     "data": {
      "text/plain": [
       "array([['0'],\n",
       "       ['1'],\n",
       "       ['1'],\n",
       "       ['1'],\n",
       "       ['1'],\n",
       "       ['1'],\n",
       "       ['1'],\n",
       "       ['1'],\n",
       "       ['1'],\n",
       "       ['1']], dtype='<U1')"
      ]
     },
     "execution_count": 7,
     "metadata": {},
     "output_type": "execute_result"
    }
   ],
   "source": [
    "y_train[:10]"
   ]
  },
  {
   "cell_type": "code",
   "execution_count": 10,
   "id": "36322eb4",
   "metadata": {},
   "outputs": [],
   "source": [
    "'''\n",
    "this is question 3 b\n",
    "'''\n",
    "\n",
    "def fit_tree(params, X_train, y_train, X_val, y_val):\n",
    "    \"\"\"to fit the decision tree with a specific criteria and depth\"\"\"\n",
    "    \n",
    "    clf = DecisionTreeClassifier(\n",
    "            max_depth=params[\"max_depth\"], \n",
    "            criterion=params[\"criteria\"],\n",
    "            splitter=\"random\",\n",
    "    )\n",
    "    # train \n",
    "    clf.fit(X=X_train, y=y_train) \n",
    "\n",
    "    # validate \n",
    "    y_pred = clf.predict(X=X_val)\n",
    "    correct = sum(i == j for i, j in zip(y_pred, y_val))\n",
    "    score = correct / y_val.shape[0]\n",
    "    print(f\"max_depth: {params['max_depth']} | criteria: {params['criteria']} | score: {score}\")\n",
    "\n",
    "    return score, clf\n",
    "\n",
    "\n",
    "\n",
    "def select_tree_model(X_train, y_train, X_val, y_val, max_depth):\n",
    "    best_score = -1\n",
    "    best_tree = None\n",
    "    \n",
    "    # make different params \n",
    "    params = []\n",
    "    for i in range(1, max_depth+1):\n",
    "        for criteria in SPL_CRITERIA:\n",
    "            params.append({\n",
    "                \"max_depth\": i,\n",
    "                \"criteria\": criteria \n",
    "            })\n",
    "    \n",
    "    # fit and validate on each param\n",
    "    for param in params:\n",
    "        score, clf = fit_tree(param, X_train, y_train, X_val, y_val)\n",
    "        if (score > best_score):\n",
    "            best_score = score\n",
    "            best_tree = clf\n",
    "\n",
    "    print(f\"Best hyperparameters are: max_depth = {best_tree.max_depth}, criteria = {best_tree.criterion}, score = {best_score}\")\n",
    "\n",
    "    return best_tree"
   ]
  },
  {
   "cell_type": "code",
   "execution_count": 18,
   "id": "fbe30f09",
   "metadata": {},
   "outputs": [
    {
     "name": "stdout",
     "output_type": "stream",
     "text": [
      "max_depth: 1 | criteria: gini | score: [0.58979592]\n",
      "max_depth: 1 | criteria: entropy | score: [0.58979592]\n",
      "max_depth: 2 | criteria: gini | score: [0.67959184]\n",
      "max_depth: 2 | criteria: entropy | score: [0.61632653]\n",
      "max_depth: 3 | criteria: gini | score: [0.67346939]\n",
      "max_depth: 3 | criteria: entropy | score: [0.6244898]\n",
      "max_depth: 4 | criteria: gini | score: [0.63877551]\n",
      "max_depth: 4 | criteria: entropy | score: [0.71020408]\n",
      "max_depth: 5 | criteria: gini | score: [0.71020408]\n",
      "max_depth: 5 | criteria: entropy | score: [0.65102041]\n",
      "max_depth: 6 | criteria: gini | score: [0.71428571]\n",
      "max_depth: 6 | criteria: entropy | score: [0.70408163]\n",
      "max_depth: 7 | criteria: gini | score: [0.67346939]\n",
      "max_depth: 7 | criteria: entropy | score: [0.7244898]\n",
      "max_depth: 8 | criteria: gini | score: [0.72244898]\n",
      "max_depth: 8 | criteria: entropy | score: [0.67346939]\n",
      "max_depth: 9 | criteria: gini | score: [0.72040816]\n",
      "max_depth: 9 | criteria: entropy | score: [0.71428571]\n",
      "max_depth: 10 | criteria: gini | score: [0.72040816]\n",
      "max_depth: 10 | criteria: entropy | score: [0.73265306]\n",
      "max_depth: 11 | criteria: gini | score: [0.73877551]\n",
      "max_depth: 11 | criteria: entropy | score: [0.72857143]\n",
      "max_depth: 12 | criteria: gini | score: [0.74897959]\n",
      "max_depth: 12 | criteria: entropy | score: [0.73061224]\n",
      "max_depth: 13 | criteria: gini | score: [0.75510204]\n",
      "max_depth: 13 | criteria: entropy | score: [0.74285714]\n",
      "max_depth: 14 | criteria: gini | score: [0.74285714]\n",
      "max_depth: 14 | criteria: entropy | score: [0.75510204]\n",
      "max_depth: 15 | criteria: gini | score: [0.72653061]\n",
      "max_depth: 15 | criteria: entropy | score: [0.74897959]\n",
      "max_depth: 16 | criteria: gini | score: [0.74081633]\n",
      "max_depth: 16 | criteria: entropy | score: [0.75714286]\n",
      "max_depth: 17 | criteria: gini | score: [0.74081633]\n",
      "max_depth: 17 | criteria: entropy | score: [0.74693878]\n",
      "max_depth: 18 | criteria: gini | score: [0.74489796]\n",
      "max_depth: 18 | criteria: entropy | score: [0.74081633]\n",
      "max_depth: 19 | criteria: gini | score: [0.74285714]\n",
      "max_depth: 19 | criteria: entropy | score: [0.75102041]\n",
      "max_depth: 20 | criteria: gini | score: [0.74081633]\n",
      "max_depth: 20 | criteria: entropy | score: [0.75510204]\n",
      "Best hyperparameters are: max_depth = 16, criteria = entropy, score = [0.75714286]\n"
     ]
    }
   ],
   "source": [
    "clf = select_tree_model(X_train, y_train, X_val, y_val, 20)"
   ]
  },
  {
   "cell_type": "code",
   "execution_count": 27,
   "id": "4c50b16c",
   "metadata": {},
   "outputs": [],
   "source": [
    "'''\n",
    "question 3 c\n",
    "'''\n",
    "\n",
    "TEST_DATA_X = 'data/data_test_X.csv'\n",
    "TEST_DATA_y = 'data/data_test_y.csv'\n",
    "\n",
    "BEST_PARAMS = {\n",
    "    'max_depth' : 23,\n",
    "    'criteria' : 'entropy',\n",
    "}\n",
    "\n",
    "def test_model():\n",
    "#     f = open(TEST_DATA_X, \"r\")\n",
    "#     X_test = f.read()\n",
    "#     f.close()\n",
    "    \n",
    "#     f = open(TEST_DATA_y, \"r\")\n",
    "#     y_test = f.read()\n",
    "#     f.close()\n",
    "    \n",
    "    y_out = clf.predict(X_test)\n",
    "    \n",
    "    return y_out\n",
    "    "
   ]
  },
  {
   "cell_type": "code",
   "execution_count": 28,
   "id": "b33ecd45",
   "metadata": {
    "scrolled": true
   },
   "outputs": [
    {
     "data": {
      "text/plain": [
       "array(['1', '1', '1', '1', '1', '0', '0', '1', '0', '1', '1', '0', '1',\n",
       "       '1', '0', '0', '1', '0', '0', '1', '1', '0', '1', '1', '1', '1',\n",
       "       '1', '1', '1', '0', '1', '0', '0', '1', '1', '1', '1', '1', '1',\n",
       "       '1', '1', '1', '1', '0', '0', '1', '0', '1', '1', '1', '1', '1',\n",
       "       '1', '1', '1', '0', '1', '0', '0', '1', '1', '1', '1', '1', '1',\n",
       "       '0', '1', '0', '1', '1', '1', '1', '1', '1', '1', '1', '1', '1',\n",
       "       '0', '1', '1', '1', '1', '1', '0', '1', '1', '1', '0', '1', '1',\n",
       "       '1', '1', '1', '0', '1', '0', '1', '1', '1', '1', '1', '1', '1',\n",
       "       '0', '1', '1', '0', '0', '1', '1', '1', '0', '1', '1', '1', '1',\n",
       "       '1', '0', '1', '1', '0', '1', '1', '1', '1', '1', '1', '1', '1',\n",
       "       '1', '1', '1', '0', '0', '1', '0', '1', '1', '1', '1', '0', '1',\n",
       "       '1', '1', '1', '1', '1', '1', '1', '1', '1', '0', '1', '1', '1',\n",
       "       '0', '1', '0', '0', '1', '1', '1', '1', '1', '1', '1', '1', '1',\n",
       "       '1', '1', '0', '0', '0', '0', '1', '1', '1', '1', '1', '1', '1',\n",
       "       '1', '0', '1', '1', '1', '1', '1', '0', '1', '0', '1', '1', '1',\n",
       "       '1', '1', '1', '1', '0', '1', '1', '0', '1', '1', '1', '1', '1',\n",
       "       '1', '0', '1', '1', '1', '0', '1', '1', '1', '1', '1', '1', '1',\n",
       "       '1', '0', '0', '0', '1', '1', '0', '1', '0', '1', '1', '0', '1',\n",
       "       '0', '1', '1', '1', '1', '0', '1', '1', '1', '1', '1', '0', '1',\n",
       "       '1', '1', '1', '1', '1', '1', '1', '1', '1', '1', '0', '1', '1',\n",
       "       '1', '1', '1', '1', '1', '1', '1', '0', '0', '1', '1', '1', '1',\n",
       "       '0', '1', '1', '0', '1', '0', '0', '0', '1', '1', '1', '1', '1',\n",
       "       '1', '0', '1', '1', '1', '1', '1', '1', '1', '1', '1', '1', '1',\n",
       "       '1', '0', '1', '1', '1', '1', '1', '1', '1', '1', '1', '0', '0',\n",
       "       '1', '1', '0', '0', '1', '1', '1', '0', '1', '1', '0', '1', '1',\n",
       "       '1', '1', '0', '1', '0', '1', '1', '1', '1', '1', '0', '1', '1',\n",
       "       '1', '1', '0', '1', '0', '0', '1', '1', '1', '0', '1', '0', '1',\n",
       "       '1', '1', '1', '1', '1', '1', '1', '0', '1', '1', '1', '0', '1',\n",
       "       '1', '1', '0', '1', '0', '1', '1', '1', '1', '1', '1', '1', '1',\n",
       "       '1', '1', '1', '1', '1', '1', '0', '1', '0', '1', '1', '1', '1',\n",
       "       '0', '1', '1', '0', '0', '1', '1', '1', '1', '1', '1', '1', '1',\n",
       "       '0', '1', '1', '1', '1', '1', '0', '1', '0', '1', '1', '1', '1',\n",
       "       '1', '1', '0', '1', '1', '1', '1', '1', '1', '1', '1', '1', '1',\n",
       "       '0', '1', '1', '1', '1', '1', '0', '1', '0', '1', '1', '1', '0',\n",
       "       '1', '1', '1', '1', '0', '0', '1', '1', '1', '0', '0', '0', '0',\n",
       "       '1', '1', '1', '1', '1', '0', '0', '0', '1', '0', '1', '1', '0',\n",
       "       '1', '1', '1', '1', '1', '1', '1', '1', '1', '1', '1', '1', '1',\n",
       "       '1', '1', '1', '1', '0', '1', '0', '1', '1'], dtype='<U1')"
      ]
     },
     "execution_count": 28,
     "metadata": {},
     "output_type": "execute_result"
    }
   ],
   "source": [
    "y_out = test_model()\n",
    "y_out"
   ]
  },
  {
   "cell_type": "code",
   "execution_count": 56,
   "id": "749c2527",
   "metadata": {},
   "outputs": [
    {
     "data": {
      "text/plain": [
       "0.7571428571428571"
      ]
     },
     "execution_count": 56,
     "metadata": {},
     "output_type": "execute_result"
    }
   ],
   "source": [
    "# accuracy \n",
    "accuracy_score(y_test, y_out)"
   ]
  },
  {
   "cell_type": "code",
   "execution_count": 53,
   "id": "9326e156",
   "metadata": {},
   "outputs": [],
   "source": [
    "# plotting the first 2 layers\n",
    "\n",
    "def visualize(clf):\n",
    "    plt.figure(figsize=(12,12))  # set plot size (denoted in inches)\n",
    "    tree.plot_tree(clf, max_depth=2, filled = True, fontsize=10)\n",
    "    plt.show()\n",
    "    plt.savefig('tree_depth_2', dpi=100)"
   ]
  },
  {
   "cell_type": "code",
   "execution_count": 54,
   "id": "76799c7c",
   "metadata": {},
   "outputs": [
    {
     "data": {
      "image/png": "[encoded data removed]",
      "text/plain": [
       "<Figure size 864x864 with 1 Axes>"
      ]
     },
     "metadata": {
      "needs_background": "light"
     },
     "output_type": "display_data"
    },
    {
     "data": {
      "text/plain": [
       "<Figure size 432x288 with 0 Axes>"
      ]
     },
     "metadata": {},
     "output_type": "display_data"
    }
   ],
   "source": [
    "visualize(clf)"
   ]
  },
  {
   "cell_type": "code",
   "execution_count": null,
   "id": "a1f9bcc2",
   "metadata": {},
   "outputs": [],
   "source": []
  }
 ],
 "metadata": {
  "kernelspec": {
   "display_name": "Python 3 (ipykernel)",
   "language": "python",
   "name": "python3"
  },
  "language_info": {
   "codemirror_mode": {
    "name": "ipython",
    "version": 3
   },
   "file_extension": ".py",
   "mimetype": "text/x-python",
   "name": "python",
   "nbconvert_exporter": "python",
   "pygments_lexer": "ipython3",
   "version": "3.9.1"
  }
 },
 "nbformat": 4,
 "nbformat_minor": 5
}
